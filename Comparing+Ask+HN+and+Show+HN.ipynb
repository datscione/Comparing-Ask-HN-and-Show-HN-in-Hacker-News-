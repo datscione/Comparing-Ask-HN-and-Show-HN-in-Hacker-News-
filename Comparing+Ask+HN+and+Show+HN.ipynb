{
 "cells": [
  {
   "cell_type": "markdown",
   "metadata": {
    "collapsed": true
   },
   "source": [
    "# Comparing Ask HN and Show HN"
   ]
  },
  {
   "cell_type": "code",
   "execution_count": 1,
   "metadata": {
    "collapsed": false
   },
   "outputs": [
    {
     "name": "stdout",
     "output_type": "stream",
     "text": [
      "[['id', 'title', 'url', 'num_points', 'num_comments', 'author', 'created_at'], ['12224879', 'Interactive Dynamic Video', 'http://www.interactivedynamicvideo.com/', '386', '52', 'ne0phyte', '8/4/2016 11:52'], ['10975351', 'How to Use Open Source and Shut the Fuck Up at the Same Time', 'http://hueniverse.com/2016/01/26/how-to-use-open-source-and-shut-the-fuck-up-at-the-same-time/', '39', '10', 'josep2', '1/26/2016 19:30'], ['11964716', \"Florida DJs May Face Felony for April Fools' Water Joke\", 'http://www.thewire.com/entertainment/2013/04/florida-djs-april-fools-water-joke/63798/', '2', '1', 'vezycash', '6/23/2016 22:20'], ['11919867', 'Technology ventures: From Idea to Enterprise', 'https://www.amazon.com/Technology-Ventures-Enterprise-Thomas-Byers/dp/0073523429', '3', '1', 'hswarna', '6/17/2016 0:01']]\n"
     ]
    }
   ],
   "source": [
    "opened_file = open('hacker_news.csv')\n",
    "from csv import reader\n",
    "read_file=reader(opened_file)\n",
    "hn=list(read_file)\n",
    "print(hn[:5])"
   ]
  },
  {
   "cell_type": "code",
   "execution_count": 2,
   "metadata": {
    "collapsed": false
   },
   "outputs": [
    {
     "name": "stdout",
     "output_type": "stream",
     "text": [
      "['id', 'title', 'url', 'num_points', 'num_comments', 'author', 'created_at']\n"
     ]
    }
   ],
   "source": [
    "headers = hn[0]\n",
    "print(headers)\n",
    "hn = hn[1:]"
   ]
  },
  {
   "cell_type": "code",
   "execution_count": 3,
   "metadata": {
    "collapsed": false
   },
   "outputs": [
    {
     "name": "stdout",
     "output_type": "stream",
     "text": [
      "[['12224879', 'Interactive Dynamic Video', 'http://www.interactivedynamicvideo.com/', '386', '52', 'ne0phyte', '8/4/2016 11:52'], ['10975351', 'How to Use Open Source and Shut the Fuck Up at the Same Time', 'http://hueniverse.com/2016/01/26/how-to-use-open-source-and-shut-the-fuck-up-at-the-same-time/', '39', '10', 'josep2', '1/26/2016 19:30'], ['11964716', \"Florida DJs May Face Felony for April Fools' Water Joke\", 'http://www.thewire.com/entertainment/2013/04/florida-djs-april-fools-water-joke/63798/', '2', '1', 'vezycash', '6/23/2016 22:20'], ['11919867', 'Technology ventures: From Idea to Enterprise', 'https://www.amazon.com/Technology-Ventures-Enterprise-Thomas-Byers/dp/0073523429', '3', '1', 'hswarna', '6/17/2016 0:01'], ['10301696', 'Note by Note: The Making of Steinway L1037 (2007)', 'http://www.nytimes.com/2007/11/07/movies/07stein.html?_r=0', '8', '2', 'walterbell', '9/30/2015 4:12']]\n"
     ]
    }
   ],
   "source": [
    "print(hn[:5])"
   ]
  },
  {
   "cell_type": "code",
   "execution_count": 4,
   "metadata": {
    "collapsed": false
   },
   "outputs": [
    {
     "name": "stdout",
     "output_type": "stream",
     "text": [
      "1744\n",
      "1162\n",
      "17194\n"
     ]
    }
   ],
   "source": [
    "ask_posts = []\n",
    "show_posts = []\n",
    "other_posts = []\n",
    "for row in hn:\n",
    "    title = row[1]\n",
    "    if title.lower().startswith('ask hn'):\n",
    "        ask_posts.append(row)\n",
    "    elif title.lower().startswith('show hn'):\n",
    "        show_posts.append(row)\n",
    "    else:\n",
    "        other_posts.append(row)\n",
    "        \n",
    "print(len(ask_posts))\n",
    "print(len(show_posts))\n",
    "print(len(other_posts))\n",
    "        "
   ]
  },
  {
   "cell_type": "code",
   "execution_count": 5,
   "metadata": {
    "collapsed": false
   },
   "outputs": [
    {
     "name": "stdout",
     "output_type": "stream",
     "text": [
      "The average number of comments in ask posts is  14.038417431192661\n",
      "The average number of comments in show posts is  10.31669535283993\n"
     ]
    }
   ],
   "source": [
    "total_ask_comments = 0\n",
    "len_num_comments_ask = 0\n",
    "for row in ask_posts:\n",
    "    num_comments_ask = int(row[4])\n",
    "    total_ask_comments += num_comments_ask\n",
    "    len_num_comments_ask += 1\n",
    "avg_ask_comments = total_ask_comments / len_num_comments_ask\n",
    "print(\"The average number of comments in ask posts is \", avg_ask_comments)\n",
    "\n",
    "len_num_comments_show = 0\n",
    "total_show_comments = 0\n",
    "for row in show_posts:\n",
    "    num_comments_show = int(row[4])\n",
    "    total_show_comments += num_comments_show\n",
    "    len_num_comments_show += 1\n",
    "avg_show_comments = total_show_comments / len_num_comments_show\n",
    "print(\"The average number of comments in show posts is \", avg_show_comments)\n",
    "    "
   ]
  },
  {
   "cell_type": "markdown",
   "metadata": {},
   "source": [
    "So we see that ask posts receives more comments on average."
   ]
  },
  {
   "cell_type": "code",
   "execution_count": 6,
   "metadata": {
    "collapsed": false
   },
   "outputs": [
    {
     "name": "stdout",
     "output_type": "stream",
     "text": [
      "[['12296411', 'Ask HN: How to improve my personal website?', '', '2', '6', 'ahmedbaracat', '8/16/2016 9:55'], ['10610020', 'Ask HN: Am I the only one outraged by Twitter shutting down share counts?', '', '28', '29', 'tkfx', '11/22/2015 13:43'], ['11610310', 'Ask HN: Aby recent changes to CSS that broke mobile?', '', '1', '1', 'polskibus', '5/2/2016 10:14'], ['12210105', 'Ask HN: Looking for Employee #3 How do I do it?', '', '1', '3', 'sph130', '8/2/2016 14:20'], ['10394168', 'Ask HN: Someone offered to buy my browser extension from me. What now?', '', '28', '17', 'roykolak', '10/15/2015 16:38']]\n"
     ]
    }
   ],
   "source": [
    "print(ask_posts[:5])"
   ]
  },
  {
   "cell_type": "code",
   "execution_count": 7,
   "metadata": {
    "collapsed": false
   },
   "outputs": [
    {
     "name": "stdout",
     "output_type": "stream",
     "text": [
      "Ask posts created per hour  {'19': 110, '20': 80, '06': 44, '18': 109, '16': 108, '00': 55, '01': 60, '14': 107, '02': 58, '03': 54, '11': 58, '23': 68, '12': 73, '17': 100, '09': 45, '13': 85, '08': 48, '15': 116, '21': 109, '10': 59, '07': 34, '22': 71, '05': 46, '04': 47}\n",
      "Amount of comments per hour  {'19': 1188, '20': 1722, '06': 397, '18': 1439, '16': 1814, '00': 447, '01': 683, '14': 1416, '02': 1381, '03': 421, '11': 641, '23': 543, '12': 687, '17': 1146, '09': 251, '13': 1253, '08': 492, '15': 4477, '21': 1745, '10': 793, '07': 267, '22': 479, '05': 464, '04': 337}\n"
     ]
    }
   ],
   "source": [
    "import datetime as dt\n",
    "\n",
    "result_list = []\n",
    "for row in ask_posts:\n",
    "    created_at = row[6]\n",
    "    numb_comments = int(row[4])\n",
    "    result_list.append([created_at, numb_comments])\n",
    "    \n",
    "counts_by_hour = {}\n",
    "comments_by_hour = {}\n",
    "for row in result_list:\n",
    "    date_str = row[0]\n",
    "    date_dt = dt.datetime.strptime(date_str, \"%m/%d/%Y %H:%M\")\n",
    "    hour = date_dt.strftime(\"%H\")\n",
    "    if hour not in counts_by_hour:\n",
    "        counts_by_hour[hour] = 1\n",
    "        comments_by_hour[hour] = row[1]\n",
    "    else:\n",
    "        counts_by_hour[hour] += 1\n",
    "        comments_by_hour[hour] += row[1]\n",
    "        \n",
    "print(\"Ask posts created per hour \", counts_by_hour)\n",
    "print(\"Amount of comments per hour \", comments_by_hour)\n",
    "    "
   ]
  },
  {
   "cell_type": "code",
   "execution_count": 8,
   "metadata": {
    "collapsed": false
   },
   "outputs": [
    {
     "name": "stdout",
     "output_type": "stream",
     "text": [
      "[['19', 10.8], ['20', 21.525], ['06', 9.022727272727273], ['18', 13.20183486238532], ['16', 16.796296296296298], ['00', 8.127272727272727], ['01', 11.383333333333333], ['14', 13.233644859813085], ['02', 23.810344827586206], ['03', 7.796296296296297], ['11', 11.051724137931034], ['23', 7.985294117647059], ['12', 9.41095890410959], ['17', 11.46], ['09', 5.5777777777777775], ['13', 14.741176470588234], ['08', 10.25], ['15', 38.5948275862069], ['21', 16.009174311926607], ['10', 13.440677966101696], ['07', 7.852941176470588], ['22', 6.746478873239437], ['05', 10.08695652173913], ['04', 7.170212765957447]]\n"
     ]
    }
   ],
   "source": [
    "avg_by_hour = []\n",
    "for hour in counts_by_hour:\n",
    "    avg_comm_p_post = comments_by_hour[hour]/counts_by_hour[hour]\n",
    "    avg_by_hour.append([hour, avg_comm_p_post]) \n",
    "print(avg_by_hour)"
   ]
  },
  {
   "cell_type": "code",
   "execution_count": 9,
   "metadata": {
    "collapsed": false
   },
   "outputs": [
    {
     "name": "stdout",
     "output_type": "stream",
     "text": [
      "[[10.8, '19'], [21.525, '20'], [9.022727272727273, '06'], [13.20183486238532, '18'], [16.796296296296298, '16'], [8.127272727272727, '00'], [11.383333333333333, '01'], [13.233644859813085, '14'], [23.810344827586206, '02'], [7.796296296296297, '03'], [11.051724137931034, '11'], [7.985294117647059, '23'], [9.41095890410959, '12'], [11.46, '17'], [5.5777777777777775, '09'], [14.741176470588234, '13'], [10.25, '08'], [38.5948275862069, '15'], [16.009174311926607, '21'], [13.440677966101696, '10'], [7.852941176470588, '07'], [6.746478873239437, '22'], [10.08695652173913, '05'], [7.170212765957447, '04']]\n",
      "\n",
      "\n",
      "By decreasing average number of comments  [[38.5948275862069, '15'], [23.810344827586206, '02'], [21.525, '20'], [16.796296296296298, '16'], [16.009174311926607, '21'], [14.741176470588234, '13'], [13.440677966101696, '10'], [13.233644859813085, '14'], [13.20183486238532, '18'], [11.46, '17'], [11.383333333333333, '01'], [11.051724137931034, '11'], [10.8, '19'], [10.25, '08'], [10.08695652173913, '05'], [9.41095890410959, '12'], [9.022727272727273, '06'], [8.127272727272727, '00'], [7.985294117647059, '23'], [7.852941176470588, '07'], [7.796296296296297, '03'], [7.170212765957447, '04'], [6.746478873239437, '22'], [5.5777777777777775, '09']]\n"
     ]
    }
   ],
   "source": [
    "swap_avg_by_hour = []\n",
    "\n",
    "for row in avg_by_hour:\n",
    "    first_e = row[1]\n",
    "    second_e = row[0]\n",
    "    swap_avg_by_hour.append([first_e, second_e])\n",
    "    sorted_swap = sorted(swap_avg_by_hour, reverse = True)\n",
    "print(swap_avg_by_hour)\n",
    "print('\\n')\n",
    "print(\"By decreasing average number of comments \", sorted_swap)"
   ]
  },
  {
   "cell_type": "code",
   "execution_count": 17,
   "metadata": {
    "collapsed": false
   },
   "outputs": [
    {
     "name": "stdout",
     "output_type": "stream",
     "text": [
      "Top 5 Hours for Ask Posts Comments in PDT\n",
      "12:00 38.59 average comments per post\n",
      "23:00 23.81 average comments per post\n",
      "17:00 21.52 average comments per post\n",
      "13:00 16.80 average comments per post\n",
      "18:00 16.01 average comments per post\n"
     ]
    }
   ],
   "source": [
    "print(\"Top 5 Hours for Ask Posts Comments in PDT\")\n",
    "\n",
    "for row in sorted_swap[:5]:\n",
    "    comments = row[0]\n",
    "    hrs = row[1] \n",
    "    hrs = dt.datetime.strptime(hrs,\"%H\")\n",
    "    hrs_pdt = hrs - dt.timedelta(hours=3)\n",
    "    hrs_pdt = hrs_pdt.strftime(\"%H:%M\") \n",
    "    print(\"{hrs_pdt} {comments:.2f} average comments per post\".format(hrs_pdt=hrs_pdt, comments=comments))"
   ]
  },
  {
   "cell_type": "markdown",
   "metadata": {},
   "source": [
    "The best times for me to create a post in order to have the highest chances of receiving comments are noon, 11PM, 5PM, 1PM, and 6PM."
   ]
  }
 ],
 "metadata": {
  "kernelspec": {
   "display_name": "Python 3",
   "language": "python",
   "name": "python3"
  },
  "language_info": {
   "codemirror_mode": {
    "name": "ipython",
    "version": 3
   },
   "file_extension": ".py",
   "mimetype": "text/x-python",
   "name": "python",
   "nbconvert_exporter": "python",
   "pygments_lexer": "ipython3",
   "version": "3.4.3"
  }
 },
 "nbformat": 4,
 "nbformat_minor": 2
}
